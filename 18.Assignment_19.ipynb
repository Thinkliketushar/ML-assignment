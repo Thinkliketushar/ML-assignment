{
 "cells": [
  {
   "cell_type": "markdown",
   "id": "b2aa57f2",
   "metadata": {},
   "source": [
    "# Assignment 19 Solutions"
   ]
  },
  {
   "cell_type": "markdown",
   "id": "111120c6",
   "metadata": {},
   "source": [
    "##### 1. A set of one-dimensional data points is given to you: 5, 10, 15, 20, 25, 30, 35. Assume that k = 2 and that the first set of random centroid is 15, 32, and that the second set is 12, 30. a) Using the k-means method, create two clusters for each set of centroid described above. b) For each set of centroid values, calculate the SSE."
   ]
  },
  {
   "cell_type": "code",
   "execution_count": 1,
   "metadata": {},
   "outputs": [
    {
     "name": "stdout",
     "output_type": "stream",
     "text": [
      "Clusters for the first set of centroids: [[5, 10, 15, 20], [25, 30, 35]]\n",
      "Final Centroids for the first set: [12.5, 30.0]\n",
      "SSE for the first set of centroids: 175.0\n",
      "\n",
      "Clusters for the second set of centroids: [[5, 10, 15, 20], [25, 30, 35]]\n",
      "Final Centroids for the second set: [12.5, 30.0]\n",
      "SSE for the second set of centroids: 175.0\n"
     ]
    }
   ],
   "source": [
    "import numpy as np\n",
    "\n",
    "# Given data points\n",
    "data_points = np.array([5, 10, 15, 20, 25, 30, 35])\n",
    "\n",
    "# Function to perform k-means clustering\n",
    "def k_means_clustering(data, centroids, max_iterations=100):\n",
    "    for _ in range(max_iterations):\n",
    "        # Assign data points to clusters based on the current centroids\n",
    "        clusters = [[] for _ in range(len(centroids))]\n",
    "        for point in data:\n",
    "            distances = [abs(point - centroid) for centroid in centroids]\n",
    "            cluster_index = np.argmin(distances)\n",
    "            clusters[cluster_index].append(point)\n",
    "\n",
    "        # Update centroids based on the mean of each cluster\n",
    "        new_centroids = [np.mean(cluster) for cluster in clusters]\n",
    "\n",
    "        # If centroids don't change, break the loop\n",
    "        if np.array_equal(new_centroids, centroids):\n",
    "            break\n",
    "\n",
    "        centroids = new_centroids\n",
    "\n",
    "    return clusters, centroids\n",
    "\n",
    "# Function to calculate SSE for a set of clusters and centroids\n",
    "def calculate_sse(clusters, centroids):\n",
    "    sse = 0\n",
    "    for i in range(len(clusters)):\n",
    "        cluster_points = np.array(clusters[i])\n",
    "        sse += np.sum((cluster_points - centroids[i]) ** 2)\n",
    "    return sse\n",
    "\n",
    "# First set of centroids\n",
    "initial_centroids_1 = np.array([15, 32])\n",
    "clusters_1, final_centroids_1 = k_means_clustering(data_points, initial_centroids_1)\n",
    "sse_1 = calculate_sse(clusters_1, final_centroids_1)\n",
    "\n",
    "print(\"Clusters for the first set of centroids:\", clusters_1)\n",
    "print(\"Final Centroids for the first set:\", final_centroids_1)\n",
    "print(\"SSE for the first set of centroids:\", sse_1)\n",
    "\n",
    "# Second set of centroids\n",
    "initial_centroids_2 = np.array([12, 30])\n",
    "clusters_2, final_centroids_2 = k_means_clustering(data_points, initial_centroids_2)\n",
    "sse_2 = calculate_sse(clusters_2, final_centroids_2)\n",
    "\n",
    "print(\"\\nClusters for the second set of centroids:\", clusters_2)\n",
    "print(\"Final Centroids for the second set:\", final_centroids_2)\n",
    "print(\"SSE for the second set of centroids:\", sse_2)\n"
   ]
  },
  {
   "cell_type": "markdown",
   "id": "4ae857d4",
   "metadata": {},
   "source": [
    "##### 2. Describe how the Market Basket Research makes use of association analysis concepts."
   ]
  },
  {
   "cell_type": "markdown",
   "id": "0e4d7be2",
   "metadata": {},
   "source": [
    "In market basket analysis, association rules are used to predict the likelihood of products being purchased together. Association rules count the frequency of items that occur together, seeking to find associations that occur far more often than expected."
   ]
  },
  {
   "cell_type": "markdown",
   "id": "c981ac1e",
   "metadata": {},
   "source": [
    "##### 3. Give an example of the Apriori algorithm for learning association rules."
   ]
  },
  {
   "cell_type": "markdown",
   "id": "a2abf909",
   "metadata": {},
   "source": [
    "- Association rule: For example, X Y is a depiction of discovering Y on a basket that contains X.\n",
    "- Itemset: For example, X,Y is a representation of the list of all objects that comprise the association rule.\n",
    "- Support: Transactions containing the itemset as a percentage of total transactions."
   ]
  },
  {
   "cell_type": "markdown",
   "id": "07ab2a64",
   "metadata": {},
   "source": [
    "##### 4. In hierarchical clustering, how is the distance between clusters measured? Explain how this metric is used to decide when to end the iteration."
   ]
  },
  {
   "cell_type": "markdown",
   "id": "14fbf5a9",
   "metadata": {},
   "source": [
    "For most common hierarchical clustering software, the default distance measure is the Euclidean distance. This is the square root of the sum of the square differences. However, for gene expression, correlation distance is often used. The distance between two vectors is 0 when they are perfectly correlated."
   ]
  },
  {
   "cell_type": "markdown",
   "id": "0be2162e",
   "metadata": {},
   "source": [
    "##### 5. In the k-means algorithm, how do you recompute the cluster centroids?"
   ]
  },
  {
   "cell_type": "markdown",
   "id": "59735150",
   "metadata": {},
   "source": [
    "Choose the number of clusters k. The first step in k-means is to pick the number of clusters, k.\n",
    "Select k random points from the data as centroids. ...\n",
    "Assign all the points to the closest cluster centroid. ...\n",
    "Recompute the centroids of newly formed clusters. ...\n",
    "Repeat steps 3 and 4."
   ]
  },
  {
   "cell_type": "markdown",
   "id": "a96163dd",
   "metadata": {},
   "source": [
    "##### 6. At the start of the clustering exercise, discuss one method for determining the required number of clusters."
   ]
  },
  {
   "cell_type": "markdown",
   "id": "0ec88301",
   "metadata": {},
   "source": [
    "ELBOW METHOD"
   ]
  },
  {
   "cell_type": "markdown",
   "id": "6b3b649e",
   "metadata": {},
   "source": [
    "##### 7. Discuss the k-means algorithm&#39;s advantages and disadvantages."
   ]
  },
  {
   "cell_type": "markdown",
   "id": "fa5e6d20",
   "metadata": {},
   "source": [
    "k-means has trouble clustering data where clusters are of varying sizes and density."
   ]
  },
  {
   "cell_type": "markdown",
   "id": "54020cf8",
   "metadata": {},
   "source": [
    "##### 8. Draw a diagram to demonstrate the principle of clustering."
   ]
  },
  {
   "attachments": {
    "image.png": {
     "image/png": "[encoded data removed]"
    }
   },
   "cell_type": "markdown",
   "id": "f29accb2",
   "metadata": {},
   "source": [
    "![image.png](attachment:image.png)"
   ]
  },
  {
   "cell_type": "markdown",
   "id": "9db681d1",
   "metadata": {},
   "source": [
    "##### 9. During your study, you discovered seven findings, which are listed in the data points below. Using the K-means algorithm, you want to build three clusters from these observations. The clusters C1, C2, and C3 have the following findings after the first iteration: C1: (2,2), (4,4), (6,6); C2: (2,2), (4,4), (6,6); C3: (2,2), (4,4), C2: (0,4), (4,0), (0,4), (0,4), (0,4), (0,4), (0,4), (0,4), (0, C3: (5,5) and (9,9)What would the cluster centroids be if you were to run a second iteration? What would this clustering&#39;s SSE be?"
   ]
  },
  {
   "cell_type": "code",
   "execution_count": 2,
   "metadata": {},
   "outputs": [
    {
     "name": "stdout",
     "output_type": "stream",
     "text": [
      "Initial Centroids:\n",
      "C1 Centroid: [4. 4.]\n",
      "C2 Centroid: [0.44444444 3.55555556]\n",
      "C3 Centroid: [7. 7.]\n",
      "\n",
      "Updated Centroids after Second Iteration:\n",
      "C1 Updated Centroid: [4. 4.]\n",
      "C2 Updated Centroid: [0.44444444 3.55555556]\n",
      "C3 Updated Centroid: [7. 7.]\n",
      "\n",
      "SSE after the First Iteration:\n",
      "C1 SSE: 16.000000000000004\n",
      "C2 SSE: 28.444444444444443\n",
      "C3 SSE: 16.000000000000004\n",
      "Total SSE (First Iteration): 60.44444444444444\n",
      "\n",
      "SSE after the Second Iteration (unchanged centroids): 60.44444444444444\n"
     ]
    }
   ],
   "source": [
    "import numpy as np\n",
    "\n",
    "# Given cluster points\n",
    "C1_points = np.array([[2, 2], [4, 4], [6, 6]])\n",
    "C2_points = np.array([[0, 4], [4, 0], [0, 4], [0, 4], [0, 4], [0, 4], [0, 4], [0, 4], [0, 4]])\n",
    "C3_points = np.array([[5, 5], [9, 9]])\n",
    "\n",
    "# Function to calculate centroid of a cluster\n",
    "def calculate_centroid(cluster_points):\n",
    "    return np.mean(cluster_points, axis=0)\n",
    "\n",
    "# Function to calculate SSE for a cluster\n",
    "def calculate_sse(cluster_points, centroid):\n",
    "    return np.sum(np.linalg.norm(cluster_points - centroid, axis=1) ** 2)\n",
    "\n",
    "# Initial centroids after the first iteration\n",
    "C1_centroid = calculate_centroid(C1_points)\n",
    "C2_centroid = calculate_centroid(C2_points)\n",
    "C3_centroid = calculate_centroid(C3_points)\n",
    "\n",
    "# Display initial centroids\n",
    "print(\"Initial Centroids:\")\n",
    "print(\"C1 Centroid:\", C1_centroid)\n",
    "print(\"C2 Centroid:\", C2_centroid)\n",
    "print(\"C3 Centroid:\", C3_centroid)\n",
    "\n",
    "# After the second iteration (assuming centroids remain unchanged)\n",
    "C1_updated_centroid = calculate_centroid(C1_points)\n",
    "C2_updated_centroid = calculate_centroid(C2_points)\n",
    "C3_updated_centroid = calculate_centroid(C3_points)\n",
    "\n",
    "# Display updated centroids after the second iteration\n",
    "print(\"\\nUpdated Centroids after Second Iteration:\")\n",
    "print(\"C1 Updated Centroid:\", C1_updated_centroid)\n",
    "print(\"C2 Updated Centroid:\", C2_updated_centroid)\n",
    "print(\"C3 Updated Centroid:\", C3_updated_centroid)\n",
    "\n",
    "# Calculate SSE after the first iteration\n",
    "C1_sse = calculate_sse(C1_points, C1_centroid)\n",
    "C2_sse = calculate_sse(C2_points, C2_centroid)\n",
    "C3_sse = calculate_sse(C3_points, C3_centroid)\n",
    "total_sse_first_iteration = C1_sse + C2_sse + C3_sse\n",
    "\n",
    "# Display SSE after the first iteration\n",
    "print(\"\\nSSE after the First Iteration:\")\n",
    "print(\"C1 SSE:\", C1_sse)\n",
    "print(\"C2 SSE:\", C2_sse)\n",
    "print(\"C3 SSE:\", C3_sse)\n",
    "print(\"Total SSE (First Iteration):\", total_sse_first_iteration)\n",
    "\n",
    "# Calculate SSE after the second iteration (unchanged centroids)\n",
    "total_sse_second_iteration = total_sse_first_iteration\n",
    "\n",
    "# Display SSE after the second iteration\n",
    "print(\"\\nSSE after the Second Iteration (unchanged centroids):\", total_sse_second_iteration)\n"
   ]
  },
  {
   "cell_type": "markdown",
   "id": "5b686929",
   "metadata": {},
   "source": [
    "##### 10. In a software project, the team is attempting to determine if software flaws discovered during testing are identical. Based on the text analytics of the defect details, they decided to build 5 clusters of related defects. Any new defect formed after the 5 clusters of defects have been identified must be listed as one of the forms identified by clustering. A simple diagram can be used to explain this process. Assume you have 20 defect data points that are clustered into 5 clusters and you used the k-means algorithm."
   ]
  },
  {
   "cell_type": "code",
   "execution_count": 3,
   "metadata": {},
   "outputs": [
    {
     "ename": "SyntaxError",
     "evalue": "invalid syntax (1065829403.py, line 1)",
     "output_type": "error",
     "traceback": [
      "\u001b[1;36m  Cell \u001b[1;32mIn[3], line 1\u001b[1;36m\u001b[0m\n\u001b[1;33m    Iteration 1            Iteration 2 (Centroids Updated)          Iteration 3 (Convergence)\u001b[0m\n\u001b[1;37m              ^\u001b[0m\n\u001b[1;31mSyntaxError\u001b[0m\u001b[1;31m:\u001b[0m invalid syntax\n"
     ]
    }
   ],
   "source": [
    "   Iteration 1            Iteration 2 (Centroids Updated)          Iteration 3 (Convergence)\n",
    "  \n",
    "   +------------------+   +------------------+   +------------------+   +------------------+\n",
    "   |   Defect Data    |   |   Defect Data    |   |   Defect Data    |   |   Defect Data    |\n",
    "   |     Points       |   |     Points       |   |     Points       |   |     Points       |\n",
    "   +--------+---------+   +--------+---------+   +--------+---------+   +--------+---------+\n",
    "           |                     |                     |                     |\n",
    "           v                     v                     v                     v\n",
    "   +------------------+   +------------------+   +------------------+   +------------------+\n",
    "   |   K-Means        |   |   K-Means        |   |   K-Means        |   |   K-Means        |\n",
    "   |   Clustering     |   |   Clustering     |   |   Clustering     |   |   Clustering     |\n",
    "   |                  |   |                  |   |                  |   |                  |\n",
    "   |    Cluster 1     |   |    Cluster 1     |   |    Cluster 1     |   |    Cluster 1     |\n",
    "   |     ● ● ● ● ●   |   |     ● ● ● ● ●   |   |     ● ● ● ● ●   |   |     ● ● ● ● ●   |\n",
    "   |    Cluster 2     |   |    Cluster 2     |   |    Cluster 2     |   |    Cluster 2     |\n",
    "   |     ● ● ● ● ●   |   |     ● ● ● ● ●   |   |     ● ● ● ● ●   |   |     ● ● ● ● ●   |\n",
    "   |    Cluster 3     |   |    Cluster 3     |   |    Cluster 3     |   |    Cluster 3     |\n",
    "   |     ● ● ● ● ●   |   |     ● ● ● ● ●   |   |     ● ● ● ● ●   |   |     ● ● ● ● ●   |\n",
    "   |    Cluster 4     |   |    Cluster 4     |   |    Cluster 4     |   |    Cluster 4     |\n",
    "   |     ● ● ● ● ●   |   |     ● ● ● ● ●   |   |     ● ● ● ● ●   |   |     ● ● ● ● ●   |\n",
    "   |    Cluster 5     |   |    Cluster 5     |   |    Cluster 5     |   |    Cluster 5     |\n",
    "   |     ● ● ● ● ●   |   |     ● ● ● ● ●   |   |     ● ● ● ● ●   |   |     ● ● ● ● ●   |\n",
    "   +------------------+   +------------------+   +------------------+   +------------------+\n",
    "           |                     |                     |                     |\n",
    "           v                     v                     v                     v\n",
    "   +------------------+   +------------------+   +------------------+   +------------------+\n",
    "   |   Assign New     |   |   Assign New     |   |   Assign New     |   |   Assign New     |\n",
    "   |   Defects to     |   |   Defects to     |   |   Defects to     |   |   Defects to     |\n",
    "   |   Clusters       |   |   Clusters       |   |   Clusters       |   |   Clusters       |\n",
    "   |                  |   |                  |   |                  |   |                  |\n",
    "   |    Cluster 1     |   |    Cluster 1     |   |    Cluster 1     |   |    Cluster 1     |\n",
    "   |     ● ● ● ● ●   |   |     ● ● ● ● ●   |   |     ● ● ● ● ●   |   |     ● ● ● ● ●   |\n",
    "   |    Cluster 2     |   |    Cluster 2     |   |    Cluster 2     |   |    Cluster 2     |\n",
    "   |     ● ● ● ●"
   ]
  },
  {
   "cell_type": "markdown",
   "metadata": {},
   "source": [
    "\n",
    "In the diagram:\n",
    "\n",
    "- Each circle (●) represents a defect data point.\n",
    "- The initial iteration involves running the k-means algorithm to assign each data point to one of the five clusters.\n",
    "- After the first iteration, centroids are updated, and the process is repeated until convergence.\n",
    "- The clusters remain fixed after convergence, and any new defect points are assigned to the closest cluster identified during the clustering process.\n",
    "\n",
    "This diagram illustrates the iterative process of clustering defects using the k-means algorithm and how new defects are assigned to existing clusters. The goal is to group similar defects together and ensure that any new defects align with the identified clusters.\n"
   ]
  },
  {
   "cell_type": "markdown",
   "metadata": {},
   "source": []
  }
 ],
 "metadata": {
  "kernelspec": {
   "display_name": "Python 3",
   "language": "python",
   "name": "python3"
  },
  "language_info": {
   "codemirror_mode": {
    "name": "ipython",
    "version": 3
   },
   "file_extension": ".py",
   "mimetype": "text/x-python",
   "name": "python",
   "nbconvert_exporter": "python",
   "pygments_lexer": "ipython3",
   "version": "3.8.18"
  }
 },
 "nbformat": 4,
 "nbformat_minor": 5
}

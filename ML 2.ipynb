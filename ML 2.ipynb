{
 "cells": [
  {
   "cell_type": "markdown",
   "id": "688f87ae",
   "metadata": {},
   "source": [
    "# 1. What is the concept of human learning? Please give two examples.\n",
    "Human learning required thinking, reasoning, intelligence, etc to solve the problem.\n",
    "- Learning through observation – Modeling/Observational Learning.\n",
    "- Learning through Association - Classical Conditioning."
   ]
  },
  {
   "cell_type": "markdown",
   "id": "d414b7d5",
   "metadata": {},
   "source": [
    "# 2. What different forms of human learning are there? Are there any machine learning equivalents?\n",
    "- Machine Learning:- Reinforcement Learning, Supervised Learning and Unsupervised Learning\n",
    "- ML equivalents like Linear regression, decision trees, random forest, support vector machines, etc"
   ]
  },
  {
   "cell_type": "markdown",
   "id": "4ebf0a96",
   "metadata": {},
   "source": [
    "# 3. What is machine learning, and how does it work? What are the key responsibilities of machine learning?\n",
    "- Machine learning is a branch of artificial intelligence (AI) and computer science which focuses on the use of data and algorithms to imitate the way that humans learn, gradually improving its accuracy.\n",
    "- It explore data and identify pattern like human\n",
    "- Responsiblity:- desing Ml model and system with algorithm, tools, etc"
   ]
  },
  {
   "cell_type": "markdown",
   "id": "08e8653e",
   "metadata": {},
   "source": [
    "# 4. Define the terms penalty and reward in the context of reinforcement learning.\n",
    "In Reinforcement learning, The robot or agent recieve reward for good command and penalty for wrong decision same like human."
   ]
  },
  {
   "cell_type": "markdown",
   "id": "d3a04b1c",
   "metadata": {},
   "source": [
    "# 5. Explain the term learning as a search?\n",
    "Concept learning can be viewed as the task of searching through a large space of hypotheses implicitly defined by the hypothesis representation"
   ]
  },
  {
   "cell_type": "markdown",
   "id": "bf04a9c2",
   "metadata": {},
   "source": [
    "# 6. What are the various goals of machine learning? What is the relationship between these and human learning?\n",
    "- Goad of machine learning to solve problem of human and system or machine mimic like human.\n",
    "- Relation between machine learning and human is learning things."
   ]
  },
  {
   "cell_type": "markdown",
   "id": "416dbfb4",
   "metadata": {},
   "source": [
    "# 7. Illustrate the various elements of machine learning using a real-life illustration.\n",
    "- Data\n",
    "- Task\n",
    "- Model\n",
    "- Loss and cost function\n",
    "- Algorihtm\n",
    "- Evaluation"
   ]
  },
  {
   "cell_type": "markdown",
   "id": "c62057c2",
   "metadata": {},
   "source": [
    "# 8. Provide an example of the abstraction method.\n",
    "Data abstraction is mostly a question of program interfaces and therefore it arises naturally at the point where we have to consider program composition and modules."
   ]
  },
  {
   "cell_type": "markdown",
   "id": "872a7b35",
   "metadata": {},
   "source": [
    "# 9. What is the concept of generalization? What function does it play in the machine learning process?\n",
    "- Generalization refers to your model's ability to adapt properly to new, previously unseen data, drawn from the same distribution as the one used to create the model.\n",
    "- In machine learning, generalization is a definition to demonstrate how well is a trained model to classify or forecast unseen data"
   ]
  },
  {
   "cell_type": "markdown",
   "id": "0a925afc",
   "metadata": {},
   "source": [
    "# 10. What is classification, exactly? What are the main distinctions between classification and regression?\n",
    "In Machine Learning, Classification refers to a predictive modeling problem where a class label is predicted for a given example of input data\n",
    "- Classification is the task of predicting a discrete class label. Whereas Regression is the task of predicting a continuous quantity."
   ]
  },
  {
   "cell_type": "markdown",
   "id": "f5409c38",
   "metadata": {},
   "source": [
    "# 11. What is regression, and how does it work? Give an example of a real-world problem that was solved using regression.\n",
    "Regression is a Supervised Machine Learning technique which is used to predict continuous values. The ultimate goal of a regression algorithm is to plot a best-fit line or a curve between the data.\n",
    "- prediction price, temperatire, number of workers, revnew, order, etc."
   ]
  },
  {
   "cell_type": "markdown",
   "id": "ae480c45",
   "metadata": {},
   "source": [
    "# 12. Describe the clustering mechanism in detail.\n",
    "Clustering is the task of dividing the population or data points into a number of groups such that data points in the same groups are more similar to other data points in the same group than those in other groups. There are lots of algorithm are used to make aluster like:-\n",
    "- K mean clustering\n",
    "- DBSCAN\n",
    "- hierarchy and agglomerative"
   ]
  },
  {
   "cell_type": "markdown",
   "id": "532bb2a5",
   "metadata": {},
   "source": [
    "# 13. Make brief observations on two of the following topics:\n",
    "- Machine learning algorithms are used: At its Most basic, Machine Learning uses programmed algorithms that receive and analyse input data to predict output values within an acceptable range. As new data is fed to these algorithms, they learn and optimise their operations to improve performance, developing intelligence over time.\n",
    "\n",
    "- Studying Under Supervision: In machine learning, there are two important categories- Supervised and Unsupervised learning.Supervised learning, an algorithm learns from a training dataset. We know the correct answers or desired output, the algorithm makes predictions using the given dataset and is corrected by the “supervisor”."
   ]
  },
  {
   "cell_type": "code",
   "execution_count": null,
   "id": "43e6f6db",
   "metadata": {},
   "outputs": [],
   "source": []
  }
 ],
 "metadata": {
  "kernelspec": {
   "display_name": "Python 3 (ipykernel)",
   "language": "python",
   "name": "python3"
  },
  "language_info": {
   "codemirror_mode": {
    "name": "ipython",
    "version": 3
   },
   "file_extension": ".py",
   "mimetype": "text/x-python",
   "name": "python",
   "nbconvert_exporter": "python",
   "pygments_lexer": "ipython3",
   "version": "3.9.12"
  }
 },
 "nbformat": 4,
 "nbformat_minor": 5
}

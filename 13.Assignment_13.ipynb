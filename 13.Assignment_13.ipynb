{
 "cells": [
  {
   "cell_type": "markdown",
   "id": "b2aa57f2",
   "metadata": {},
   "source": [
    "# Assignment 13 Solutions"
   ]
  },
  {
   "cell_type": "markdown",
   "id": "111120c6",
   "metadata": {},
   "source": [
    "##### 1. Provide an example of the concepts of Prior, Posterior, and Likelihood ?"
   ]
  },
  {
   "cell_type": "raw",
   "id": "e714588d",
   "metadata": {},
   "source": [
    "Bayes theorem states the following:\n",
    "Posterior = Prior * Likelihood\n",
    "This can also be stated as P (A | B) = (P (B | A) * P(A)) / P(B) , where P(A|B) is the probability of A given B, also called posterior.\n",
    "Prior: Probability distribution representing knowledge or uncertainty of a data object prior or before observing it\n",
    "Posterior: Conditional probability distribution representing what parameters are likely after observing the data object\n",
    "Likelihood: The probability of falling under a specific category or class."
   ]
  },
  {
   "cell_type": "markdown",
   "id": "4ae857d4",
   "metadata": {},
   "source": [
    "##### 2. What role does Bayes' theorem play in the concept learning principle ?"
   ]
  },
  {
   "cell_type": "raw",
   "id": "1c6a5abf",
   "metadata": {},
   "source": [
    "Bayes theorem helps to determine the probability of an event with random knowledge. It is used to calculate the probability of occurring one event while other one already occurred. It is a best method to relate the condition probability and marginal probability."
   ]
  },
  {
   "cell_type": "markdown",
   "id": "c981ac1e",
   "metadata": {},
   "source": [
    "##### 3. Offer an example of how the Nave Bayes classifier is used in real life ?"
   ]
  },
  {
   "cell_type": "raw",
   "id": "42377480",
   "metadata": {},
   "source": [
    "Naive Bayes easily sorts out spam using keywords. For example, in spam, you can see the word 'viagra' much more often than in regular mail. The algorithm must be trained to recognize such probabilities and, then, it can efficiently apply them for spam filtering. Sentiment analysis."
   ]
  },
  {
   "cell_type": "markdown",
   "id": "07ab2a64",
   "metadata": {},
   "source": [
    "##### 4. Can the Nave Bayes classifier be used on continuous numeric data? If so, how can you go about doing it ?"
   ]
  },
  {
   "cell_type": "raw",
   "id": "5e24b0de",
   "metadata": {},
   "source": [
    "If an instance in test data set has a category that was not present during training then it will assign it “Zero” probability and won't be able to make prediction. This is known as Zero frequency problem."
   ]
  },
  {
   "cell_type": "markdown",
   "id": "0be2162e",
   "metadata": {},
   "source": [
    "##### 5. What are Bayesian Belief Networks, and how do they work? What are their applications? Are they capable of resolving a wide range of issues ?"
   ]
  },
  {
   "cell_type": "raw",
   "id": "9a0c3b65",
   "metadata": {},
   "source": [
    "A Bayesian belief network (BBN), which also may be called a Bayesian causal probabilistic network, is a graphical data structure that compactly represents the joint probability distribution of a problem domain by exploiting conditional dependencies.\n",
    "\n",
    "Application:- Semantic Search, Image Processing,Spam Filter, etc.\n",
    "There is no universally acknowledged method for constructing networks from data"
   ]
  },
  {
   "cell_type": "markdown",
   "id": "a96163dd",
   "metadata": {},
   "source": [
    "##### 6. Passengers are checked in an airport screening system to see if there is an intruder. Let I be the random variable that indicates whether someone is an intruder I = 1) or not I = 0), and A be the variable that indicates alarm I = 0). If an intruder is detected with probability P(A = 1|I = 1) = 0.98 and a non-intruder is detected with probability P(A = 1|I = 0) = 0.001, an alarm will be triggered, implying the error factor. The likelihood of an intruder in the passenger population is P(I = 1) = 0.00001. What are the chances that an alarm would be triggered when an individual is actually an intruder ?"
   ]
  },
  {
   "cell_type": "raw",
   "id": "f4ff6c26",
   "metadata": {},
   "source": [
    "To determine the chances that an alarm would be triggered when an individual is actually an intruder, we need to calculate the conditional probability P(A = 1|I = 1).\n",
    "\n",
    "Given:\n",
    "P(A = 1|I = 1) = 0.98 (probability of detecting an intruder correctly)\n",
    "P(A = 1|I = 0) = 0.001 (probability of false alarm when there is no intruder)\n",
    "P(I = 1) = 0.00001 (likelihood of an individual being an intruder)\n",
    "We can use Bayes' theorem to calculate the desired probability:\n",
    "P(A = 1|I = 1) = (P(I = 1|A = 1) * P(A = 1)) / P(I = 1)\n",
    "Using Bayes' theorem, we can express P(I = 1|A = 1) as:\n",
    "P(I = 1|A = 1) = (P(A = 1|I = 1) * P(I = 1)) / P(A = 1)\n",
    "\n",
    "Substituting the given values:\n",
    "P(I = 1|A = 1) = (0.98 * 0.00001) / P(A = 1)\n",
    "To find P(A = 1), we need to consider both cases: detecting an intruder correctly and having a false alarm when there is no intruder.\n",
    "P(A = 1) = P(A = 1|I = 1) * P(I = 1) + P(A = 1|I = 0) * P(I = 0)\n",
    "Since P(I = 0) = 1 - P(I = 1), we can rewrite the equation as:\n",
    "P(A = 1) = P(A = 1|I = 1) * P(I = 1) + P(A = 1|I = 0) * (1 - P(I = 1))\n",
    "\n",
    "Substituting the given values:\n",
    "\n",
    "P(A = 1) = (0.98 * 0.00001) + (0.001 * (1 - 0.00001))\n",
    "Now, we can substitute the value of P(A = 1) in the expression for P(I = 1|A = 1):\n",
    "P(I = 1|A = 1) = (0.98 * 0.00001) / P(A = 1)\n",
    "Finally, calculate the probability:\n",
    "P(I = 1|A = 1) = (0.98 * 0.00001) / [(0.98 * 0.00001) + (0.001 * (1 - 0.00001))]\n",
    "Simplifying the equation will yield the chances that an alarm would be triggered when an individual is actually an intruder."
   ]
  },
  {
   "cell_type": "markdown",
   "id": "6b3b649e",
   "metadata": {},
   "source": [
    "##### 7. An antibiotic resistance test (random variable T) has 1% false positives (i.e., 1% of those who are not immune to an antibiotic display a positive result in the test) and 5% false negatives (i.e., 1% of those who are not resistant to an antibiotic show a positive result in the test) (i.e. 5 percent of those actually resistant to an antibiotic test negative). Assume that 2% of those who were screened were antibiotic-resistant. Calculate the likelihood that a person who tests positive is actually immune (random variable D) ?"
   ]
  },
  {
   "cell_type": "raw",
   "id": "b8884d9e",
   "metadata": {},
   "source": [
    "To calculate the likelihood that a person who tests positive is actually immune (random variable D), we need to use Bayes' theorem. Let's define the following variables:\n",
    "\n",
    "T: Random variable representing the result of the antibiotic resistance test (T = 1 for positive, T = 0 for negative).\n",
    "D: Random variable representing whether a person is immune to the antibiotic (D = 1 for immune, D = 0 for non-immune).\n",
    "Given:\n",
    "\n",
    "P(T = 1|D = 0) = 0.01 (false positives - probability of a positive test result given the person is not immune).\n",
    "P(T = 0|D = 1) = 0.05 (false negatives - probability of a negative test result given the person is immune).\n",
    "P(D = 1) = 0.02 (probability of a person being immune to the antibiotic).\n",
    "We can calculate the likelihood using Bayes' theorem:\n",
    "\n",
    "P(D = 1|T = 1) = (P(T = 1|D = 1) * P(D = 1)) / P(T = 1)\n",
    "First, let's find P(T = 1) using the law of total probability:\n",
    "P(T = 1) = P(T = 1|D = 1) * P(D = 1) + P(T = 1|D = 0) * P(D = 0)\n",
    "Since P(D = 0) = 1 - P(D = 1), we can rewrite the equation as:\n",
    "P(T = 1) = P(T = 1|D = 1) * P(D = 1) + P(T = 1|D = 0) * (1 - P(D = 1))\n",
    "\n",
    "Substituting the given values:\n",
    "P(T = 1) = 0.05 * 0.02 + 0.01 * (1 - 0.02)\n",
    "Now, we can substitute the value of P(T = 1) in the expression for P(D = 1|T = 1):\n",
    "P(D = 1|T = 1) = (P(T = 1|D = 1) * P(D = 1)) / P(T = 1)\n",
    "\n",
    "Finally, calculate the probability:\n",
    "P(D = 1|T = 1) = (0.05 * 0.02) / [(0.05 * 0.02) + (0.01 * (1 - 0.02))]\n",
    "Simplifying the equation will give you the likelihood that a person who tests positive is actually immune to the antibiotic."
   ]
  },
  {
   "cell_type": "markdown",
   "id": "54020cf8",
   "metadata": {},
   "source": [
    "##### 8. In order to prepare for the test, a student knows that there will be one question in the exam that is either form A, B, or C. The chances of getting an A, B, or C on the exam are 30 percent, 20%, and 50 percent, respectively. During the planning, the student solved 9 of 10 type A problems, 2 of 10 type B problems, and 6 of 10 type C problems.\n",
    "1. What is the likelihood that the student can solve the exam problem?\n",
    "2. Given the student's solution, what is the likelihood that the problem was of form A?"
   ]
  },
  {
   "cell_type": "raw",
   "id": "a8ef97b9",
   "metadata": {},
   "source": [
    "To determine the likelihood that the student can solve the exam problem and the likelihood that the problem was of form A given the student's solution, we can use Bayes' theorem. Let's define the following variables:\n",
    "\n",
    "P(A): Probability of the problem being of form A.\n",
    "P(B): Probability of the problem being of form B.\n",
    "P(C): Probability of the problem being of form C.\n",
    "S: Random variable representing the student's solution (S = 1 for solved, S = 0 for unsolved).\n",
    "Given:\n",
    "\n",
    "P(A) = 0.30 (probability of the problem being of form A).\n",
    "P(B) = 0.20 (probability of the problem being of form B).\n",
    "P(C) = 0.50 (probability of the problem being of form C).\n",
    "The student solved 9 out of 10 type A problems, 2 out of 10 type B problems, and 6 out of 10 type C problems.\n",
    "We can calculate the likelihood that the student can solve the exam problem using the law of total probability:\n",
    "\n",
    "P(S = 1) = P(S = 1|A) * P(A) + P(S = 1|B) * P(B) + P(S = 1|C) * P(C)\n",
    "Substituting the given values:\n",
    "P(S = 1) = (9/10 * 0.30) + (2/10 * 0.20) + (6/10 * 0.50)\n",
    "\n",
    "This will give us the likelihood that the student can solve the exam problem.\n",
    "To calculate the likelihood that the problem was of form A given the student's solution, we can use Bayes' theorem:\n",
    "P(A|S = 1) = (P(S = 1|A) * P(A)) / P(S = 1)\n",
    "\n",
    "Substituting the given values:\n",
    "P(A|S = 1) = (9/10 * 0.30) / P(S = 1)\n",
    "\n",
    "Finally, calculate the probability:\n",
    "P(A|S = 1) = (9/10 * 0.30) / [(9/10 * 0.30) + (2/10 * 0.20) + (6/10 * 0.50)]\n",
    "Simplifying the equation will give you the likelihood that the problem was of form A given the student's solution."
   ]
  },
  {
   "cell_type": "markdown",
   "id": "9db681d1",
   "metadata": {},
   "source": [
    "##### 9. A bank installs a CCTV system to track and photograph incoming customers. Despite the constant influx of customers, we divide the timeline into 5 minute bins. There may be a customer coming into the bank with a 5% chance in each 5-minute time period, or there may be no customer (again, for simplicity, we assume that either there is 1 customer or none, not the case of multiple customers). If there is a client, the CCTV will detect them with a 99 percent probability. If there is no customer, the camera can take a false photograph with a 10% chance of detecting movement from other objects.\n",
    "1. How many customers come into the bank on a daily basis (10 hours)?\n",
    "2. On a daily basis, how many fake photographs (photographs taken when there is no customer) and how many missed photographs (photographs taken when there is a customer) are there?\n",
    "3. Explain likelihood that there is a customer if there is a photograph?"
   ]
  },
  {
   "cell_type": "raw",
   "id": "9c3e46e4",
   "metadata": {},
   "source": [
    "To calculate the number of customers coming into the bank on a daily basis, we need to determine the average number of customers in a 5-minute time period and then multiply it by the number of 5-minute periods in 10 hours.\n",
    "Given:\n",
    "\n",
    "The probability of a customer coming into the bank in each 5-minute time period is 5% (or 0.05).\n",
    "We assume that either there is 1 customer or none, not the case of multiple customers.\n",
    "Let's calculate the average number of customers in a 5-minute time period:\n",
    "Average number of customers = Probability of a customer coming in * Number of possible outcomes (0 or 1)\n",
    "Average number of customers = 0.05 * 1 = 0.05\n",
    "Now, let's calculate the number of 5-minute periods in 10 hours:\n",
    "Number of 5-minute periods in 10 hours = (10 hours * 60 minutes) / 5 minutes = 1200\n",
    "Finally, we can calculate the number of customers coming into the bank on a daily basis:\n",
    "Number of customers on a daily basis = Average number of customers in a 5-minute period * Number of 5-minute periods in 10 hours\n",
    "Number of customers on a daily basis = 0.05 * 1200 = 60 customers\n",
    "Therefore, on a daily basis, there are approximately 60 customers coming into the bank during the 10-hour period.\n",
    "\n",
    "To calculate the number of fake photographs (photographs taken when there is no customer) and missed photographs (photographs taken when there is a customer), we need to consider the probabilities of detection and false detection.\n",
    "\n",
    "Given:\n",
    "The CCTV system detects a customer with a 99% probability (or 0.99).\n",
    "The camera can take a false photograph with a 10% chance of detecting movement from other objects (or 0.1).\n",
    "Let's calculate the number of fake photographs:\n",
    "Number of fake photographs = Number of 5-minute periods in 10 hours * Probability of a false photograph\n",
    "Number of fake photographs = 1200 * 0.1 = 120\n",
    "And let's calculate the number of missed photographs:\n",
    "Number of missed photographs = Number of 5-minute periods in 10 hours * (1 - Probability of customer detection)\n",
    "Number of missed photographs = 1200 * (1 - 0.99) = 12\n",
    "Therefore, on a daily basis, there are approximately 120 fake photographs and 12 missed photographs.\n",
    "To explain the likelihood that there is a customer if there is a photograph, we need to calculate the conditional probability using Bayes' theorem.\n",
    "\n",
    "Let's define the variables:\n",
    "P(Customer): Probability of a customer coming into the bank in a 5-minute time period (0.05).\n",
    "P(Photograph): Probability of a photograph being taken in a 5-minute time period (this includes both true photographs and false photographs).\n",
    "P(Photograph|Customer): Probability of a photograph being taken given that there is a customer (0.99).\n",
    "P(Customer|Photograph): Likelihood of a customer being present given that a photograph was taken (what we want to calculate).\n",
    "Using Bayes' theorem:\n",
    "\n",
    "P(Customer|Photograph) = (P(Photograph|Customer) * P(Customer)) / P(Photograph)\n",
    "To calculate P(Photograph), we need to consider the possibilities of a photograph being taken when there is a customer (P(Photograph|Customer)) and when there is no customer (P(Photograph|No Customer)).\n",
    "P(Photograph) = P(Photograph|Customer) * P(Customer) + P(Photograph|No Customer) * P(No Customer)\n",
    "Given:\n",
    "\n",
    "P(Photograph|Customer) = 0.99\n",
    "P(Customer) = 0.05\n",
    "P(Photograph|No Customer) = 0.1\n",
    "P(No Customer) = 1 - P(Customer) = 1 - 0.05 = 0.95\n",
    "Substituting the given values:\n",
    "P(Photograph) = 0.99 * 0.05 + 0.1 * 0.95\n",
    "Now, we can substitute the values of P(Photograph|Customer), P(Customer), and P(Photograph) into the equation for P(Customer|Photograph):\n",
    "P(Customer|Photograph) = (P(Photograph|Customer) * P(Customer)) / P(Photograph)\n",
    "\n",
    "Calculate the probability:\n",
    "P(Customer|Photograph) = (0.99 * 0.05) / P(Photograph)\n",
    "Simplifying the equation will give you the likelihood that there is a customer if there is a photograph."
   ]
  },
  {
   "cell_type": "markdown",
   "id": "5b686929",
   "metadata": {},
   "source": [
    "##### 10. Create the conditional probability table associated with the node Won Toss in the Bayesian Belief network to represent the conditional independence assumptions of the Nave Bayes classifier for the match winning prediction problem in Section 6.4.4.?"
   ]
  },
  {
   "cell_type": "raw",
   "id": "934c13bf",
   "metadata": {},
   "source": [
    "To create the conditional probability table (CPT) associated with the node \"Won Toss\" in the Naive Bayes classifier for the match winning prediction problem, we need to make certain assumptions about the conditional independence of the variables. Given that Section 6.4.4 is not specified, I will assume a simplified scenario with two variables: \"Won Toss\" and \"Match Winning.\"\n",
    "\n",
    "Assumptions:\n",
    "\n",
    "The outcome of winning the toss is independent of the actual match winning.\n",
    "The probability of winning the toss is the same for all matches.\n",
    "Based on these assumptions, we can create the following conditional probability table for the node \"Won Toss\":\n",
    "Explanation:\n",
    "\n",
    "\"Won Toss\" represents the outcome of winning the toss, with two possible values: \"Yes\" and \"No.\"\n",
    "P(Won Toss) represents the probability of winning the toss, denoted as 'p.'\n",
    "Since we assumed that the probability of winning the toss is the same for all matches, we can assign 'p' as the probability of winning the toss and (1 - p) as the probability of not winning the toss.\n",
    "Note: In a more complex scenario, where there are additional variables that are dependent on \"Won Toss\" or where the probability of winning the toss varies for different matches, the conditional probability table would be more elaborate.\n",
    "Explanation:\n",
    "\n",
    "\"Won Toss\" represents the outcome of winning the toss, with two possible values: \"Yes\" and \"No.\"\n",
    "P(Won Toss) represents the probability of winning the toss, denoted as 'p.'\n",
    "Since we assumed that the probability of winning the toss is the same for all matches, we can assign 'p' as the probability of winning the toss and (1 - p) as the probability of not winning the toss.\n",
    "Note: In a more complex scenario, where there are additional variables that are dependent on \"Won Toss\" or where the probability of winning the toss varies for different matches, the conditional probability table would be more elaborate."
   ]
  },
  {
   "cell_type": "markdown",
   "id": "0825843b",
   "metadata": {},
   "source": [
    "| Won Toss | P(Won Toss) |\n",
    "|----------|-------------|\n",
    "| Yes      | p           |\n",
    "| No       | 1 - p       |\n"
   ]
  },
  {
   "cell_type": "code",
   "execution_count": null,
   "id": "b8238f9a",
   "metadata": {},
   "outputs": [],
   "source": []
  }
 ],
 "metadata": {
  "kernelspec": {
   "display_name": "Python 3 (ipykernel)",
   "language": "python",
   "name": "python3"
  },
  "language_info": {
   "codemirror_mode": {
    "name": "ipython",
    "version": 3
   },
   "file_extension": ".py",
   "mimetype": "text/x-python",
   "name": "python",
   "nbconvert_exporter": "python",
   "pygments_lexer": "ipython3",
   "version": "3.8.0"
  }
 },
 "nbformat": 4,
 "nbformat_minor": 5
}

{
 "cells": [
  {
   "cell_type": "markdown",
   "id": "b4c317a1",
   "metadata": {},
   "source": [
    "# 1. What does one mean by the term &quot;machine learning&quot;?\n",
    "\n",
    "Machine learning is a branch of artificial intelligence (AI) and computer science which focuses on the use of data and algorithms to imitate the way that humans learn, gradually improving its accuracy."
   ]
  },
  {
   "cell_type": "markdown",
   "id": "4633f965",
   "metadata": {},
   "source": [
    "# 2.Can you think of 4 distinct types of issues where it shines?\n",
    "\n",
    "- Recommentation\n",
    "- Recognition\n",
    "- Prediction\n",
    "- Clustering"
   ]
  },
  {
   "cell_type": "markdown",
   "id": "008ea1c5",
   "metadata": {},
   "source": [
    "# 3.What is a labeled training set, and how does it work?\n",
    "The training set is used to train the algorithm, and then you use the trained model on the test set to predict the response variable values that are already known"
   ]
  },
  {
   "cell_type": "markdown",
   "id": "b0d5dba1",
   "metadata": {},
   "source": [
    "# 4.What are the two most important tasks that are supervised?\n",
    "- Classification\n",
    "- Regression"
   ]
  },
  {
   "cell_type": "markdown",
   "id": "188f0f4d",
   "metadata": {},
   "source": [
    "# 5.Can you think of four examples of unsupervised tasks?\n",
    "- Clustering\n",
    "- visualization\n",
    "- Dimensionality Reduction\n",
    "- Association"
   ]
  },
  {
   "cell_type": "markdown",
   "id": "728d25d5",
   "metadata": {},
   "source": [
    "# 6.State the machine learning model that would be best to make a robot walk through various unfamiliar terrains?\n",
    "Using Reinfored learning where the robot can learn from responce."
   ]
  },
  {
   "cell_type": "markdown",
   "id": "7c568326",
   "metadata": {},
   "source": [
    "# 7.Which algorithm will you use to divide your customers into different groups?\n",
    "Classfication problem in supervised learning. Algorithm like:- \n",
    "- Logistic regression\n",
    "- Decision tree\n",
    "- Support vector\n",
    "- Naive bayse\n",
    "- KNN\n",
    "\n",
    "Using ANN in Deep learning\n",
    "\n",
    "Clustering in unsupervised leanring algorithm like:-\n",
    "- K mean clustering\n",
    "- hierarchy and agglomerative\n",
    "- DBSCAN"
   ]
  },
  {
   "cell_type": "markdown",
   "id": "53c4f9e8",
   "metadata": {},
   "source": [
    "# 8.Will you consider the problem of spam detection to be a supervised or unsupervised learning problem?\n",
    "Supervised because of two classes spam or not\n"
   ]
  },
  {
   "cell_type": "markdown",
   "id": "3fdf310d",
   "metadata": {},
   "source": [
    "# 9.What is the concept of an online learning system?\n",
    "In which machine learn continously on server."
   ]
  },
  {
   "cell_type": "markdown",
   "id": "1471a243",
   "metadata": {},
   "source": [
    "# 10.What is out-of-core learning, and how does it differ from core learning?\n",
    "Out of core learning, in which the system read data that cannot fit into computer memory. It use online learning to read data into chunks."
   ]
  },
  {
   "cell_type": "markdown",
   "id": "0772f9c2",
   "metadata": {},
   "source": [
    "# 11.What kind of learning algorithm makes predictions using a similarity measure?\n",
    "Instance-based algorithm"
   ]
  },
  {
   "cell_type": "markdown",
   "id": "15f84404",
   "metadata": {},
   "source": [
    "# 12.What is the difference between a model parameter and a hyperparameter in a learning algorithm?\n",
    "- model parameter is a upcoming(future) instance(point) that algorithm will dertermine. \n",
    "- Hyperparameter is in algorihtm to to effect the output of algorithm like slope, lamda, beta, etc."
   ]
  },
  {
   "cell_type": "markdown",
   "id": "056e6179",
   "metadata": {},
   "source": [
    "# 13.What are the criteria that model-based learning algorithms look for? What is the most popular method they use to achieve success? What method do they use to make predictions?\n",
    "Optimal value of parameter to loss cost for increase accuracy."
   ]
  },
  {
   "cell_type": "markdown",
   "id": "37f8d5bc",
   "metadata": {},
   "source": [
    "# 14.Can you name four of the most important Machine Learning challenges?\n",
    "- Lack of data\n",
    "- Underfitting\n",
    "- Overfitting\n",
    "- Non representative data"
   ]
  },
  {
   "cell_type": "markdown",
   "id": "0164537a",
   "metadata": {},
   "source": [
    "# 15.What happens if the model performs well on the training data but fails to generalize the results to new situations? Can you think of three different options?\n",
    "It's mean overfitting\n",
    "- Need more data\n",
    "- Need overfitting optimizers like regularization\n",
    "- Need to Remove outliers"
   ]
  },
  {
   "cell_type": "markdown",
   "id": "d17abbc5",
   "metadata": {},
   "source": [
    "# 16.What exactly is a test set, and why would you need one?\n",
    "- Test set is a set of data in which we see the performance of algorithm.\n",
    "- Test set is necessary to determine how good (or bad) a model performs."
   ]
  },
  {
   "cell_type": "markdown",
   "id": "44845a85",
   "metadata": {},
   "source": [
    "# 17.What is a validation set's purpose?\n",
    "Finding and optimizing the best model to solve a given problem."
   ]
  },
  {
   "cell_type": "markdown",
   "id": "d0424291",
   "metadata": {},
   "source": [
    "# 18.What precisely is the train-dev kit, when will you need it, how do you put it to use ?\n",
    "- Cross validation \n",
    "- Used to find the best algorihtm and its parameter withour validation data.\n",
    "- Instead of breaking the data into validation we use cross validation. "
   ]
  },
  {
   "cell_type": "markdown",
   "id": "0938c930",
   "metadata": {},
   "source": [
    "# 19.What could go wrong if you use the test set to tune hyperparameters ?\n",
    "If we tune hyperparameter in test set then it perform well but not on future set because the model is tuned just for specific test."
   ]
  },
  {
   "cell_type": "code",
   "execution_count": null,
   "id": "fecfdecb",
   "metadata": {},
   "outputs": [],
   "source": []
  }
 ],
 "metadata": {
  "kernelspec": {
   "display_name": "Python 3 (ipykernel)",
   "language": "python",
   "name": "python3"
  },
  "language_info": {
   "codemirror_mode": {
    "name": "ipython",
    "version": 3
   },
   "file_extension": ".py",
   "mimetype": "text/x-python",
   "name": "python",
   "nbconvert_exporter": "python",
   "pygments_lexer": "ipython3",
   "version": "3.9.12"
  }
 },
 "nbformat": 4,
 "nbformat_minor": 5
}
